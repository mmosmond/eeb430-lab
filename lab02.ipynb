{
 "cells": [
  {
   "cell_type": "markdown",
   "id": "5006babd-a54a-4c4d-b8fb-deefd1e5b9bc",
   "metadata": {},
   "source": [
    "**Update on saving as PDF** The easiest way to convert the Notebook file to a PDF file is to choose $\\textbf{File $\\rightarrow$ Export Notebook as $\\rightarrow$ HTML}$ from the toolbar at the top left of Jupyter-lab (not your browser). Then open that file in your browser and use your browser's file menu to $\\textbf{File $\\rightarrow$ Print $\\rightarrow$ Save as PDF}$. Upload the PDF to Quercus."
   ]
  },
  {
   "cell_type": "markdown",
   "id": "1074cf3e",
   "metadata": {
    "tags": []
   },
   "source": [
    "# Lab 2: Recursion equations and differential equations"
   ]
  },
  {
   "cell_type": "markdown",
   "id": "6ac67ae6-5b95-43b0-b666-a83016681c44",
   "metadata": {
    "tags": []
   },
   "source": [
    "## 1. Recursion equations"
   ]
  },
  {
   "cell_type": "markdown",
   "id": "943e1ce8-cb8d-4926-a5b8-14d556e7006f",
   "metadata": {},
   "source": [
    "### 1.1 Exponential growth in discrete time"
   ]
  },
  {
   "cell_type": "markdown",
   "id": "ee15121a-3bd3-44c3-9169-4cba0b9f5aed",
   "metadata": {},
   "source": [
    "A simple way to write the recursion equation for exponential growth, $n(t) = n(t-1) R$, is to define a function that gives the initial population size, $n_0$ when $t=0$ and otherwise gives the population size at the previous time, $n(t-1)$, multiplied by the growth rate, $R$. "
   ]
  },
  {
   "cell_type": "code",
   "execution_count": 1,
   "id": "086aaf1b",
   "metadata": {},
   "outputs": [],
   "source": [
    "n0, R = var('n0, R')\n",
    "def n(t):\n",
    "    if t == 0:\n",
    "        return n0 #initial condition (population size of n0 at time 0)\n",
    "    else:\n",
    "        return n(t-1) * R #recursion (multiply the previous population size by R)"
   ]
  },
  {
   "cell_type": "markdown",
   "id": "77f391f8-c9b9-420d-9b6a-f1044e7aa6d7",
   "metadata": {},
   "source": [
    "So then if we wanted the population size at time $t=5$, with initial population size $n_0=1$ and growth rate $R=2$, we could evaluate"
   ]
  },
  {
   "cell_type": "code",
   "execution_count": 2,
   "id": "a8472fc8-edd9-4858-9595-31694aaf8a3d",
   "metadata": {},
   "outputs": [
    {
     "data": {
      "text/plain": [
       "32"
      ]
     },
     "execution_count": 2,
     "metadata": {},
     "output_type": "execute_result"
    }
   ],
   "source": [
    "n(5).subs(n0=1, R=2)"
   ]
  },
  {
   "cell_type": "markdown",
   "id": "38814575-e430-42b9-8af1-954467752112",
   "metadata": {},
   "source": [
    "Note that this is not always the smartest way to write a recursion. This is because everytime we evaluate $n(t)$ at some time $t$ we first calculate $n(0)$, then $n(1)$, then $n(2)$, ... until we get to $n(t)$. So if we wanted to plot $n(t)$ as a function of $t$, we'd do this recursion down to $t=0$ for every value of $t$! "
   ]
  },
  {
   "cell_type": "markdown",
   "id": "96e4a551-1255-47db-947e-0b4ccf909970",
   "metadata": {},
   "source": [
    "### 1.2 Functions vs generators"
   ]
  },
  {
   "cell_type": "markdown",
   "id": "a5b8b365-7098-4490-9252-629e86e608be",
   "metadata": {},
   "source": [
    "We might therefore rather define a \"function\" that will store the current value of the function and easily give the next. Below is one"
   ]
  },
  {
   "cell_type": "code",
   "execution_count": 3,
   "id": "0958ec48-7a15-45d2-b0e4-07bdf03f6a89",
   "metadata": {},
   "outputs": [],
   "source": [
    "def n(t0, n0, R, max=Infinity):\n",
    "    t = t0 #set the initial value of t\n",
    "    nt = n0 #and the initial value of n(t)\n",
    "    while t <= max: #and then if we've not gone too far yet\n",
    "        yield nt #yield the current value of n(t)\n",
    "        t += 1 #then update t (this is equivalent to t = t + 1)\n",
    "        nt = nt * R #and update n(t)"
   ]
  },
  {
   "cell_type": "markdown",
   "id": "8d3e2d14-8353-4693-9c9c-494076a1a2ab",
   "metadata": {},
   "source": [
    "This is called a \"generator\", and the subtle difference between a generator and a function is mostly being whether we \"return\" or \"yield\" values. The \"yield\" returns the value but then stops evaluating further, until the generator is called again."
   ]
  },
  {
   "cell_type": "markdown",
   "id": "5b2135da-30d9-4470-beed-620beb1ad190",
   "metadata": {},
   "source": [
    "So let's choose some parameter values for our generator, and assign this to an object ```nt```"
   ]
  },
  {
   "cell_type": "code",
   "execution_count": 4,
   "id": "56c037ec-b7f5-4172-91e6-61e4a33e1d24",
   "metadata": {},
   "outputs": [],
   "source": [
    "nt = n(t0=0, n0=1, R=2, max=10)"
   ]
  },
  {
   "cell_type": "markdown",
   "id": "37e153ac-66e3-4774-af33-722a9bb4c4dc",
   "metadata": {},
   "source": [
    "Now we can ask what the next value of n is (this will be the initial value, $n_0$)"
   ]
  },
  {
   "cell_type": "code",
   "execution_count": 5,
   "id": "7fd800f6-fef0-48b2-ad02-9bac412931a5",
   "metadata": {},
   "outputs": [
    {
     "data": {
      "text/plain": [
       "1"
      ]
     },
     "execution_count": 5,
     "metadata": {},
     "output_type": "execute_result"
    }
   ],
   "source": [
    "next(nt)"
   ]
  },
  {
   "cell_type": "markdown",
   "id": "6a3add98-b95c-41fa-97ff-d59e7bd6ef07",
   "metadata": {},
   "source": [
    "And the next"
   ]
  },
  {
   "cell_type": "code",
   "execution_count": 6,
   "id": "5cc245ef-44b6-4b93-a0f8-4d06424e6ae2",
   "metadata": {},
   "outputs": [
    {
     "data": {
      "text/plain": [
       "2"
      ]
     },
     "execution_count": 6,
     "metadata": {},
     "output_type": "execute_result"
    }
   ],
   "source": [
    "next(nt)"
   ]
  },
  {
   "cell_type": "markdown",
   "id": "5e478010-e0c1-4e25-ad11-ae7a6230ce26",
   "metadata": {},
   "source": [
    "And so on. We can also ask for all the values in our generator by asking \"for\" each value \"in\" the generator"
   ]
  },
  {
   "cell_type": "code",
   "execution_count": 7,
   "id": "735f6f5c-c6a5-480d-be63-ea385fbf950e",
   "metadata": {},
   "outputs": [
    {
     "data": {
      "text/plain": [
       "[1, 2, 4, 8, 16, 32, 64, 128, 256, 512, 1024]"
      ]
     },
     "execution_count": 7,
     "metadata": {},
     "output_type": "execute_result"
    }
   ],
   "source": [
    "nt = n(t0=0, n0=1, R=2, max=10) #define the object nt again so that we start from the beginning\n",
    "[n for n in nt]"
   ]
  },
  {
   "cell_type": "markdown",
   "id": "6b9967a6-8581-4016-9441-5c1c7f9764d6",
   "metadata": {},
   "source": [
    "For plotting, it is more convenient to make a list of pairs [t, n(t)]."
   ]
  },
  {
   "cell_type": "code",
   "execution_count": 8,
   "id": "03979c5e-fdce-49ae-8518-9d96843e41f4",
   "metadata": {},
   "outputs": [],
   "source": [
    "nt = n(t0=0, n0=1, R=2, max=10) #define the object nt again so that we start from the beginning\n",
    "nts = [[t,n] for t,n in enumerate(nt)] #if you're not sure what \"enumerate\" does, evaluate \"enumerate?\""
   ]
  },
  {
   "cell_type": "markdown",
   "id": "3791b96f-edab-489b-a1ff-fe11783d9ef9",
   "metadata": {},
   "source": [
    "Another way to do this is to take advantage of the \"next\" function on the generator"
   ]
  },
  {
   "cell_type": "code",
   "execution_count": 9,
   "id": "24558476-ca8d-4f14-b400-c91fd218340f",
   "metadata": {},
   "outputs": [],
   "source": [
    "nt = n(t0=0, n0=1, R=2, max=10) #define the object nt again so that we start from the beginning\n",
    "nts = [[t, next(nt)] for t in range(0,10)] #if you're not sure what \"enumerate\" does, evaluate \"enumerate?\""
   ]
  },
  {
   "cell_type": "markdown",
   "id": "d7a4f523-6fcd-4cf6-85fb-8e339c1daf7a",
   "metadata": {},
   "source": [
    "Once we have these t,n(t) pairs we can plot pretty straightforwardly"
   ]
  },
  {
   "cell_type": "code",
   "execution_count": 10,
   "id": "2accefe0-f9db-4504-a0c3-1d4f4352bfbd",
   "metadata": {},
   "outputs": [
    {
     "data": {
      "image/png": "[encoded data removed]",
      "text/plain": [
       "Graphics object consisting of 1 graphics primitive"
      ]
     },
     "execution_count": 10,
     "metadata": {},
     "output_type": "execute_result"
    }
   ],
   "source": [
    "scatter_plot(nts)"
   ]
  },
  {
   "cell_type": "markdown",
   "id": "34242d88-31bd-408e-9cf5-ceeb8d199650",
   "metadata": {},
   "source": [
    "If we wanted to compare multiple different R values we could use a ```for``` loop"
   ]
  },
  {
   "cell_type": "code",
   "execution_count": 11,
   "id": "e9753f33-a064-4c81-8ea4-c1fafa94d4f8",
   "metadata": {},
   "outputs": [
    {
     "data": {
      "image/png": "[encoded data removed]",
      "text/plain": [
       "Graphics object consisting of 1 graphics primitive"
      ]
     },
     "metadata": {},
     "output_type": "display_data"
    },
    {
     "data": {
      "image/png": "[encoded data removed]",
      "text/plain": [
       "Graphics object consisting of 1 graphics primitive"
      ]
     },
     "metadata": {},
     "output_type": "display_data"
    },
    {
     "data": {
      "image/png": "[encoded data removed]",
      "text/plain": [
       "Graphics object consisting of 1 graphics primitive"
      ]
     },
     "metadata": {},
     "output_type": "display_data"
    }
   ],
   "source": [
    "for R in [0.5, 1, 5]:\n",
    "    nt = n(t0=0, n0=1, R=R, max=10) #define the object nt again so that we start from the beginning\n",
    "    nts = [[t, next(nt)] for t in range(0,10)] #if you're not sure what \"enumerate\" does, evaluate \"enumerate?\"\n",
    "    show(scatter_plot(nts))"
   ]
  },
  {
   "cell_type": "markdown",
   "id": "70b39832-0929-4764-8598-c80673d5c73c",
   "metadata": {},
   "source": [
    "Why does the population size decline, not change, and increase, respectively, for each of these $R$ values?"
   ]
  },
  {
   "cell_type": "markdown",
   "id": "f61c150e-9692-4728-9b94-ea2cbfc0c963",
   "metadata": {
    "tags": []
   },
   "source": [
    "### 1.3 Logistic growth in discrete time"
   ]
  },
  {
   "cell_type": "markdown",
   "id": "6efcf9c6-68ca-42a2-9bf0-2cfb7ae8afdc",
   "metadata": {},
   "source": [
    "**Q1.** Write the recursion equation for logistic growth, $n(t) = n(t) + r n(t-1) (1 - n(t-1)/k)$, as a generator called ```n``` with parameters ```n0```, ```r```, ```k```, and ```max```"
   ]
  },
  {
   "cell_type": "code",
   "execution_count": null,
   "id": "ec03ca5f-2827-4e36-aeea-d868932b3702",
   "metadata": {},
   "outputs": [],
   "source": []
  },
  {
   "cell_type": "markdown",
   "id": "cb96c771-1d06-4096-a501-8c5048a1ffc2",
   "metadata": {},
   "source": [
    "**Q2.** Set the initial population size $n(0)$ to 1, growth rate $r$ to 0.1, and carrying capacity $k$ to 100 and save this as an object ```nt```, as above"
   ]
  },
  {
   "cell_type": "code",
   "execution_count": null,
   "id": "443720d7-ac3b-474a-a235-ae5b807163b8",
   "metadata": {},
   "outputs": [],
   "source": []
  },
  {
   "cell_type": "markdown",
   "id": "3a6ea22d-2b5e-4149-87c7-a31b2ab74482",
   "metadata": {},
   "source": [
    "**Q3.** Make a list of the population sizes from $t=0$ to $t=100$ and call this ```ns```"
   ]
  },
  {
   "cell_type": "code",
   "execution_count": null,
   "id": "2b05cda7-44d7-4ad7-a8f7-60ec742f9773",
   "metadata": {},
   "outputs": [],
   "source": []
  },
  {
   "cell_type": "markdown",
   "id": "ea72fb2f-8530-46f1-a785-15e32ff55d7a",
   "metadata": {},
   "source": [
    "**Q4.** Use ```ns``` to get the population size at $t=45$"
   ]
  },
  {
   "cell_type": "code",
   "execution_count": null,
   "id": "118087e3-d7ec-48ba-b8d9-8fb9eb3b1339",
   "metadata": {},
   "outputs": [],
   "source": []
  },
  {
   "cell_type": "markdown",
   "id": "c3610d11-8f15-46e2-b635-6a0dd2f98397",
   "metadata": {},
   "source": [
    "**Q5.** Now make a list of the pair [t,n(t)] from $t=0$ to $t=100$"
   ]
  },
  {
   "cell_type": "code",
   "execution_count": null,
   "id": "cc77b32d-a402-4a24-9c68-f6243dc97b66",
   "metadata": {},
   "outputs": [],
   "source": []
  },
  {
   "cell_type": "markdown",
   "id": "28f89ce7-f945-4c38-818b-78d28e9063c2",
   "metadata": {},
   "source": [
    "**Q6.** Use ```scatter_plot()``` to plot these population sizes as a function of time"
   ]
  },
  {
   "cell_type": "code",
   "execution_count": null,
   "id": "884ee9b0-aca5-4534-b381-017852c6dcba",
   "metadata": {},
   "outputs": [],
   "source": []
  },
  {
   "cell_type": "markdown",
   "id": "8f194268-79a6-4b06-ade0-0043205d47bc",
   "metadata": {},
   "source": [
    "**Q7.** Now plot this, separately, for $r$ values 0.1, 2.1, 2.5, 2.565, 2.7, and 3.1 (hint: use a ```for``` loop). What are you seeing?"
   ]
  },
  {
   "cell_type": "code",
   "execution_count": null,
   "id": "3c46dbd7-4cbc-4815-93be-20be66df175d",
   "metadata": {},
   "outputs": [],
   "source": []
  },
  {
   "cell_type": "markdown",
   "id": "c8376705-9303-419a-bbce-71857f0ddffd",
   "metadata": {},
   "source": [
    " We can make a bifurcation diagram to see what is happening to the final population size as we increase $r$"
   ]
  },
  {
   "cell_type": "markdown",
   "id": "1be62bfd-8e1c-4e35-89c0-949f4324b110",
   "metadata": {},
   "source": [
    " We can make a bifurcation diagram to see what is happening to the final population size as we increase $r$"
   ]
  },
  {
   "cell_type": "markdown",
   "id": "d1cd6dc2-e412-4003-b88f-49b2594ace45",
   "metadata": {},
   "source": [
    "Compare this to Figure 4.1.2 (p118) in the text."
   ]
  },
  {
   "cell_type": "markdown",
   "id": "362c809b-e907-4d4a-a166-1640c8248506",
   "metadata": {},
   "source": [
    "### 1.4 Natural Selection"
   ]
  },
  {
   "cell_type": "markdown",
   "id": "344b9362-eca1-40e7-9873-396f399576e5",
   "metadata": {},
   "source": [
    "Let's next explore the two models of natural selection we saw in the lecture, haploid and diploid selection."
   ]
  },
  {
   "cell_type": "markdown",
   "id": "0995e69c-1467-4672-9ff0-2ced71672883",
   "metadata": {},
   "source": [
    "Our recursions were\n",
    "\n",
    "$p(t+1) = \\frac{V_A p(t)}{V_A p(t) + 1 - p(t)}$ (haploid selection)\n",
    "\n",
    "$p(t+1) = \\frac{V_{AA} p(t)^2 + V_{Aa} p(t)(1-p(t))}{V_{AA} p(t)^2 + V_{Aa} 2 p(t)(1-p(t)) + (1-p(t))^2}$ (diploid selection)"
   ]
  },
  {
   "cell_type": "markdown",
   "id": "3e7472e5-4e9f-46d2-a7b1-6f9464161e89",
   "metadata": {},
   "source": [
    "A generator for the haploid selection recursion is"
   ]
  },
  {
   "cell_type": "code",
   "execution_count": 20,
   "id": "71b423b1-fbb3-4036-b9fd-399422f24b0d",
   "metadata": {},
   "outputs": [],
   "source": [
    "def p_hap(t0, p0, VA, max=Infinity):\n",
    "    t = t0 #set the initial value of t\n",
    "    pt = p0 #and the initial value of p(t)\n",
    "    while t <= max: #and then if we've not gone too far yet\n",
    "        yield pt #yield the current value of p(t)\n",
    "        t += 1 #then update t (this is equivalent to t = t + 1)\n",
    "        pt = VA * pt / (VA * pt + 1  - pt) #and update p(t)"
   ]
  },
  {
   "cell_type": "markdown",
   "id": "6370d95e-a4bf-4e19-b85d-ce22c1795fa6",
   "metadata": {},
   "source": [
    "Now let's choose some parameter values, initial frequency of the A allele $p_0=0.1$ and relative viability of the A allele $V_A=1.1$, and define a generator that will give us the allele frequency from generation 0 to 100"
   ]
  },
  {
   "cell_type": "code",
   "execution_count": 28,
   "id": "162c7044-a335-4c0f-8695-bfcde28654e0",
   "metadata": {},
   "outputs": [],
   "source": [
    "pth = p_hap(t0=0,p0=0.1,VA=1.1,max=100)"
   ]
  },
  {
   "cell_type": "markdown",
   "id": "0fb02c17-5cbb-46bb-8792-9b1f02f960a0",
   "metadata": {},
   "source": [
    "And now let's make the [t,p(t)] pairs, to get ready for plotting"
   ]
  },
  {
   "cell_type": "code",
   "execution_count": 30,
   "id": "fbca58ab-91fe-494b-beff-412753c1fd17",
   "metadata": {},
   "outputs": [],
   "source": [
    "pths = [[t, next(pth)] for t in range(0,100)]"
   ]
  },
  {
   "cell_type": "markdown",
   "id": "c9ef7752-cb3f-4ee6-85d8-3e29c6b4bebe",
   "metadata": {},
   "source": [
    "And plot"
   ]
  },
  {
   "cell_type": "code",
   "execution_count": 31,
   "id": "fcce0fda-f327-4ff9-9d5c-8fd119a7e984",
   "metadata": {},
   "outputs": [
    {
     "data": {
      "image/png": "[encoded data removed]",
      "text/plain": [
       "Graphics object consisting of 1 graphics primitive"
      ]
     },
     "execution_count": 31,
     "metadata": {},
     "output_type": "execute_result"
    }
   ],
   "source": [
    "scatter_plot(pths)"
   ]
  },
  {
   "cell_type": "markdown",
   "id": "69e6d289-feca-49df-8fb8-2f6b3ffb754a",
   "metadata": {},
   "source": [
    "**Q8** Now define a generator for the diploid selection recursion"
   ]
  },
  {
   "cell_type": "code",
   "execution_count": null,
   "id": "4121f92f-b922-4f75-9bcc-da8784efd168",
   "metadata": {},
   "outputs": [],
   "source": []
  },
  {
   "cell_type": "markdown",
   "id": "dc7f008a-8807-44b9-86b3-ea2357cbf388",
   "metadata": {},
   "source": [
    "**Q9** Now define a generator with specific parameter values, $p_0 = 0.1$, $V_{AA} = 1.1$, and $V_{Aa} = 1$, that goes from time 0 to 200"
   ]
  },
  {
   "cell_type": "code",
   "execution_count": null,
   "id": "66c96175-b45c-418f-853f-bb467a4ee68e",
   "metadata": {},
   "outputs": [],
   "source": []
  },
  {
   "cell_type": "markdown",
   "id": "0fc58da1-4c2a-4f5b-ba45-7d98caac4cfe",
   "metadata": {},
   "source": [
    "**Q10** Make the [t,n(t)] pairs"
   ]
  },
  {
   "cell_type": "code",
   "execution_count": null,
   "id": "b934299a-2e81-403e-839a-b7ca2b546134",
   "metadata": {},
   "outputs": [],
   "source": []
  },
  {
   "cell_type": "markdown",
   "id": "734168ce-412a-4a03-9aea-ee7a5d3aa761",
   "metadata": {},
   "source": [
    "**Q11** And plot"
   ]
  },
  {
   "cell_type": "code",
   "execution_count": null,
   "id": "813fc296-d9ee-4d9a-afef-edc8c3493892",
   "metadata": {},
   "outputs": [],
   "source": []
  },
  {
   "cell_type": "markdown",
   "id": "dda5abb7-5c45-486a-a1a5-8fe48153c601",
   "metadata": {},
   "source": [
    "**Q12** Explain in words why it takes longer for the allele frequency to increase in the diploid model vs the haploid model with these parameter values"
   ]
  },
  {
   "cell_type": "markdown",
   "id": "70593ee8-b709-484a-9f22-3d3a296973be",
   "metadata": {},
   "source": []
  },
  {
   "cell_type": "markdown",
   "id": "273cc22c-8f45-419b-9805-2ab5ee3808bc",
   "metadata": {
    "tags": []
   },
   "source": [
    "## 2. Differential equations"
   ]
  },
  {
   "cell_type": "markdown",
   "id": "ea641c17-7663-4b83-960e-21dfe2752c7f",
   "metadata": {},
   "source": [
    "Differential equations lend themselves less to direct simulation since they are the limit of the recursion equation as the time step goes to 0. However, we could generalize our approach above to update the population size over any increment of time. For example, below we update population size under exponential growth in increments of ```dt```"
   ]
  },
  {
   "cell_type": "code",
   "execution_count": 42,
   "id": "5153f980-6561-4c0d-a95a-9eddb678bfce",
   "metadata": {},
   "outputs": [],
   "source": [
    "def n(dt, n0, R, max=Infinity):\n",
    "    t = 0 #set the initial value of t\n",
    "    nt = n0 #and the initial value of n(t)\n",
    "    while t <= max: #and then if we've not gone too far yet\n",
    "        yield t, nt #yield the current value of n(t)\n",
    "        t += dt #then update t (this is equivalent to t = t + dt)\n",
    "        nt += nt * R * dt #and update n(t)"
   ]
  },
  {
   "cell_type": "markdown",
   "id": "3dbbdf1a-6e19-4ab3-8920-39cf0db6eedd",
   "metadata": {},
   "source": [
    "Now we can compare the values we get for small values of ```dt``` (say 0.01) to the discrete case above (```dt```=1)"
   ]
  },
  {
   "cell_type": "code",
   "execution_count": 43,
   "id": "39855409-8254-448a-bfcb-87953d78dbec",
   "metadata": {},
   "outputs": [
    {
     "data": {
      "image/png": "[encoded data removed]",
      "text/plain": [
       "Graphics object consisting of 2 graphics primitives"
      ]
     },
     "metadata": {},
     "output_type": "display_data"
    }
   ],
   "source": [
    "nt = n(0.01, 1, 0.1, max=10) #small dt=0.01, approximating continuous time\n",
    "nts_c = [[t,n] for t,n in nt]\n",
    "\n",
    "nt = n(1, 1, 0.1, max=10) #dt=1, discrete time\n",
    "nts_d = [[t,n] for t,n in nt]\n",
    "\n",
    "show(\n",
    "    scatter_plot(nts_c, facecolor='k') + #continuous in black\n",
    "    scatter_plot(nts_d, facecolor='r') #discrete in red\n",
    ")"
   ]
  },
  {
   "cell_type": "markdown",
   "id": "00436066-ddda-4caf-9c69-2479a84550d3",
   "metadata": {},
   "source": [
    "SageMath also has the ability to solve differential equations, but we won't spend much time on this as we will be able to do this for very few models"
   ]
  },
  {
   "cell_type": "markdown",
   "id": "6afc84a5-dd8e-463b-930b-db0f65bca307",
   "metadata": {},
   "source": [
    "Here is how it works for the logistic equation"
   ]
  },
  {
   "cell_type": "code",
   "execution_count": 44,
   "id": "dbdb3dd1-1bb2-4bad-9593-0e8dd7844897",
   "metadata": {},
   "outputs": [
    {
     "data": {
      "text/html": [
       "<html><script type=\"math/tex; mode=display\">\\newcommand{\\Bold}[1]{\\mathbf{#1}}-\\frac{\\log\\left(-k + n\\left(t\\right)\\right) - \\log\\left(n\\left(t\\right)\\right)}{r} = \\frac{r t - \\log\\left(-k + n_{0}\\right) + \\log\\left(n_{0}\\right)}{r}</script></html>"
      ],
      "text/latex": [
       "\\begin{math}\n",
       "\\newcommand{\\Bold}[1]{\\mathbf{#1}}-\\frac{\\log\\left(-k + n\\left(t\\right)\\right) - \\log\\left(n\\left(t\\right)\\right)}{r} = \\frac{r t - \\log\\left(-k + n_{0}\\right) + \\log\\left(n_{0}\\right)}{r}\n",
       "\\end{math}"
      ],
      "text/plain": [
       "-(log(-k + n(t)) - log(n(t)))/r == (r*t - log(-k + n0) + log(n0))/r"
      ]
     },
     "metadata": {},
     "output_type": "display_data"
    }
   ],
   "source": [
    "r,k,t,n0 = var('r, k, t, n0') #define the variables\n",
    "n = function('n')(t) #define a general function\n",
    "\n",
    "f = desolve(\n",
    "    diff(n(t),t) == r * n(t) * (1 - n(t) / k), #the differential equation we want to solve\n",
    "    n(t), #the function we want to solve for\n",
    "    ivar = t, #the independent variable we want the function to be of\n",
    "    ics = [0, n0] #the initial conditions (t0, n0)\n",
    ")\n",
    "show(f)"
   ]
  },
  {
   "cell_type": "markdown",
   "id": "23d04431-de71-4eb9-8a40-4e42900b2505",
   "metadata": {},
   "source": [
    "This spits out an \"implicit\" solution for $n(t)$, and we'd have to do some further manipulting to get the explicit expression."
   ]
  },
  {
   "cell_type": "markdown",
   "id": "b6ade57d-98ec-4e8c-a586-7bf77dc67e57",
   "metadata": {},
   "source": [
    "**Q13.** Solve the differential equation for continuous-time exponential growth, $dn/dt = r n$, with ```desolve```."
   ]
  },
  {
   "cell_type": "code",
   "execution_count": null,
   "id": "a762e98a-ac14-4462-afbe-2a4f2c399686",
   "metadata": {},
   "outputs": [],
   "source": []
  },
  {
   "cell_type": "markdown",
   "id": "cd72dc94-cf10-46c9-85b5-880c9f22ef56",
   "metadata": {},
   "source": [
    "If you have time, try plotting this function (hint, just use the ```plot``` function, rather than ```scatter_plot```, to plot a continuous function, as shown in lab01)"
   ]
  },
  {
   "cell_type": "code",
   "execution_count": null,
   "id": "3a7c6557-8552-48e0-a657-d5f844112142",
   "metadata": {},
   "outputs": [],
   "source": []
  },
  {
   "cell_type": "markdown",
   "id": "331aa6bc-4bac-4c6c-b1b0-69fb0832288e",
   "metadata": {},
   "source": [
    "**Q14** Solve the differential equation for the change in allele frequency under haploid selection, $dp/dt = s p (1-p)$"
   ]
  },
  {
   "cell_type": "code",
   "execution_count": null,
   "id": "889730a2-5551-401e-bf60-93d86a62a9c7",
   "metadata": {},
   "outputs": [],
   "source": []
  },
  {
   "cell_type": "markdown",
   "id": "fbbfc12f-9842-4df8-8546-7354c51bf842",
   "metadata": {},
   "source": [
    "**Q15** Compare to the solution for logistic growth above. What values of $k$ and $r$ make the dynamics of $n$ and $p$ equivalent?"
   ]
  },
  {
   "cell_type": "markdown",
   "id": "e499bc24-b964-411d-aaf4-0fa70f0055ad",
   "metadata": {},
   "source": []
  }
 ],
 "metadata": {
  "kernelspec": {
   "display_name": "SageMath 9.2",
   "language": "sage",
   "name": "sagemath"
  },
  "language_info": {
   "codemirror_mode": {
    "name": "ipython",
    "version": 3
   },
   "file_extension": ".py",
   "mimetype": "text/x-python",
   "name": "python",
   "nbconvert_exporter": "python",
   "pygments_lexer": "ipython3",
   "version": "3.9.6"
  }
 },
 "nbformat": 4,
 "nbformat_minor": 5
}
